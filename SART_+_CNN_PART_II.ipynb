{
  "nbformat": 4,
  "nbformat_minor": 0,
  "metadata": {
    "colab": {
      "name": "SART + CNN PART II",
      "provenance": [],
      "collapsed_sections": [],
      "include_colab_link": true
    },
    "kernelspec": {
      "name": "python3",
      "display_name": "Python 3"
    },
    "accelerator": "GPU"
  },
  "cells": [
    {
      "cell_type": "markdown",
      "metadata": {
        "id": "view-in-github",
        "colab_type": "text"
      },
      "source": [
        "<a href=\"https://colab.research.google.com/github/jyothsnashaji/Image-Reconstruction/blob/master/SART_%2B_CNN_PART_II.ipynb\" target=\"_parent\"><img src=\"https://colab.research.google.com/assets/colab-badge.svg\" alt=\"Open In Colab\"/></a>"
      ]
    },
    {
      "cell_type": "code",
      "metadata": {
        "id": "rOF5TvcABe8i",
        "colab_type": "code",
        "outputId": "eeb0135b-e344-4367-809a-646e31831220",
        "colab": {
          "base_uri": "https://localhost:8080/",
          "height": 122
        }
      },
      "source": [
        "pip install pydicom\n"
      ],
      "execution_count": 0,
      "outputs": [
        {
          "output_type": "stream",
          "text": [
            "Collecting pydicom\n",
            "\u001b[?25l  Downloading https://files.pythonhosted.org/packages/53/e6/4cae2b4b2fdbea5e2ddd188361139606d8f10f710ba1abecd6600da099c3/pydicom-1.4.2-py2.py3-none-any.whl (35.3MB)\n",
            "\u001b[K     |████████████████████████████████| 35.3MB 89kB/s \n",
            "\u001b[?25hInstalling collected packages: pydicom\n",
            "Successfully installed pydicom-1.4.2\n"
          ],
          "name": "stdout"
        }
      ]
    },
    {
      "cell_type": "code",
      "metadata": {
        "id": "7pOBjb4A-r2z",
        "colab_type": "code",
        "outputId": "622059c2-9a3f-4296-e5c6-f9b591971da5",
        "colab": {
          "base_uri": "https://localhost:8080/",
          "height": 122
        }
      },
      "source": [
        "from google.colab import drive\n",
        "drive.mount('/content/drive')"
      ],
      "execution_count": 0,
      "outputs": [
        {
          "output_type": "stream",
          "text": [
            "Go to this URL in a browser: https://accounts.google.com/o/oauth2/auth?client_id=947318989803-6bn6qk8qdgf4n4g3pfee6491hc0brc4i.apps.googleusercontent.com&redirect_uri=urn%3aietf%3awg%3aoauth%3a2.0%3aoob&response_type=code&scope=email%20https%3a%2f%2fwww.googleapis.com%2fauth%2fdocs.test%20https%3a%2f%2fwww.googleapis.com%2fauth%2fdrive%20https%3a%2f%2fwww.googleapis.com%2fauth%2fdrive.photos.readonly%20https%3a%2f%2fwww.googleapis.com%2fauth%2fpeopleapi.readonly\n",
            "\n",
            "Enter your authorization code:\n",
            "··········\n",
            "Mounted at /content/drive\n"
          ],
          "name": "stdout"
        }
      ]
    },
    {
      "cell_type": "code",
      "metadata": {
        "id": "Y3mhhJeE88Kk",
        "colab_type": "code",
        "colab": {}
      },
      "source": [
        "from google.colab import drive\n",
        "drive.flush_and_unmount()\n"
      ],
      "execution_count": 0,
      "outputs": []
    },
    {
      "cell_type": "code",
      "metadata": {
        "id": "kj1br0NWBjiB",
        "colab_type": "code",
        "colab": {}
      },
      "source": [
        "import pydicom\n",
        "import numpy as np\n",
        "from skimage import morphology\n",
        "from scipy import ndimage\n",
        "import os\n",
        "import matplotlib.pyplot as plt\n",
        "from skimage.transform import radon, rescale,iradon_sart,iradon\n",
        "\n",
        "path='/content/drive/My Drive/Major Project/'\n"
      ],
      "execution_count": 0,
      "outputs": []
    },
    {
      "cell_type": "code",
      "metadata": {
        "id": "nEwqDUvwVTUc",
        "colab_type": "code",
        "colab": {}
      },
      "source": [
        "def transform_to_hu(medical_image, image):\n",
        "    intercept = medical_image.RescaleIntercept\n",
        "    slope = medical_image.RescaleSlope\n",
        "    hu_image = image * slope + intercept\n",
        "\n",
        "    return hu_image\n",
        "\n",
        "def window_image(image, window_center, window_width):\n",
        "    img_min = window_center - window_width // 2\n",
        "    img_max = window_center + window_width // 2\n",
        "    window_image = image.copy()\n",
        "    window_image[window_image < img_min] = img_min\n",
        "    window_image[window_image > img_max] = img_max\n",
        "    \n",
        "    return window_image\n",
        "\n",
        "def remove_noise(file_path, display=False):\n",
        "    medical_image = pydicom.read_file(file_path,force=True)\n",
        "    medical_image.file_meta.TransferSyntaxUID = pydicom.uid.ImplicitVRLittleEndian\n",
        "\n",
        "    image = medical_image.pixel_array\n",
        "    \n",
        "    hu_image = transform_to_hu(medical_image, image)\n",
        "    brain_image = window_image(hu_image, window_lower, window_upper)\n",
        "    # morphology.dilation creates a segmentation of the image\n",
        "    # If one pixel is between the origin and the edge of a square of size\n",
        "    # 5x5, the pixel belongs to the same class\n",
        "    \n",
        "    # We can instead use a circule using: morphology.disk(2)\n",
        "    # In this case the pixel belongs to the same class if it's between the origin\n",
        "    # and the radius\n",
        "    \n",
        "    segmentation = morphology.dilation(brain_image, np.ones((4, 4)))\n",
        "    labels, label_nb = ndimage.label(segmentation)\n",
        "    \n",
        "    label_count = np.bincount(labels.ravel().astype(np.int))\n",
        "    # The size of label_count is the number of classes/segmentations found\n",
        "    \n",
        "    # We don't use the first class since it's the background\n",
        "    label_count[0] = 0\n",
        "    \n",
        "    # We create a mask with the class with more pixels\n",
        "    # In this case should be the brain\n",
        "    mask = labels == label_count.argmax()\n",
        "    \n",
        "    # Improve the brain mask\n",
        "    mask = morphology.dilation(mask, np.ones((4, 4)))\n",
        "    mask = ndimage.morphology.binary_fill_holes(mask)\n",
        "    mask = morphology.dilation(mask, np.ones((2, 2)))\n",
        "    \n",
        "    # Since the the pixels in the mask are zero's and one's\n",
        "    # We can multiple the original image to only keep the brain region\n",
        "    masked_image = mask * brain_image\n",
        "\n",
        "    if display:\n",
        "        plt.figure(figsize=(30, 5))\n",
        "        plt.subplot(141)\n",
        "        plt.imshow(brain_image,cmap=plt.cm.Greys_r)\n",
        "        plt.title('Original Image')\n",
        "        plt.axis('off')\n",
        "        \n",
        "        plt.subplot(142)\n",
        "        plt.imshow(mask,cmap=plt.cm.Greys_r)\n",
        "        plt.title('Mask')\n",
        "        plt.axis('off')\n",
        "\n",
        "        plt.subplot(143)\n",
        "        plt.imshow(masked_image,cmap=plt.cm.Greys_r)\n",
        "        plt.title('Final Image')\n",
        "        plt.axis('off')\n",
        "    \n",
        "    return masked_image"
      ],
      "execution_count": 0,
      "outputs": []
    },
    {
      "cell_type": "code",
      "metadata": {
        "id": "LuG74R76cgh4",
        "colab_type": "code",
        "outputId": "a1579bd7-b199-4a98-9c60-81108c4b044b",
        "colab": {
          "base_uri": "https://localhost:8080/",
          "height": 1000
        }
      },
      "source": [
        "\n",
        "\n",
        "window_lower=40\n",
        "window_upper=80\n",
        "\n",
        "folder = os.fsencode(path+'FullDicom')\n",
        "for file in os.listdir(folder):\n",
        "  filename=os.fsdecode(file)\n",
        "  medical_image = pydicom.read_file(path+'FullDicom/'+filename,force=True)\n",
        "  medical_image.file_meta.TransferSyntaxUID = pydicom.uid.ImplicitVRLittleEndian\n",
        "  image = medical_image.pixel_array\n",
        "  hu_image = transform_to_hu(medical_image,image)\n",
        "  brain_image = window_image(hu_image, window_lower, window_upper)\n",
        " # bone_image = window_image(hu_image, 400, 1000)\n",
        "  noise_removed=remove_noise(path+'FullDicom/'+filename, display=False)\n",
        "  fig, (ax1,ax2,ax3) = plt.subplots(1, 3, figsize=(16, 9))\n",
        "  fig.suptitle(filename)\n",
        "  ax1.set_title('Original')\n",
        "  ax1.imshow(hu_image, cmap=plt.cm.Greys_r)\n",
        "  ax2.set_title('Preprocessed')\n",
        "  ax2.imshow(brain_image, cmap=plt.cm.Greys_r)\n",
        "  ax3.set_title('Noise Removed')\n",
        "  ax3.imshow(noise_removed, cmap=plt.cm.Greys_r)\n",
        "  np.save(path+'Preprocessed/'+filename[:-3]+'npy',noise_removed)\n",
        "  #image=np.load(path+'/Preprocessed/'+filename[:-3]+'npy')\n",
        "  #ax4.imshow(image, cmap=plt.cm.Greys_r)\n",
        "  \n",
        "\n",
        "  \n"
      ],
      "execution_count": 0,
      "outputs": []
    },
    {
      "cell_type": "markdown",
      "metadata": {
        "id": "Bb3yQT7YW6sI",
        "colab_type": "text"
      },
      "source": [
        "Taking Sparse Projections and reconstructing image"
      ]
    },
    {
      "cell_type": "code",
      "metadata": {
        "id": "LgS_FbPeW6QT",
        "colab_type": "code",
        "cellView": "both",
        "colab": {}
      },
      "source": [
        "#@title\n",
        "\n",
        "downfactor= 100 # Number of angles taken\n",
        "sart_iterations=2 # Number of iterations of SART\n",
        "window_lower=40\n",
        "window_upper=80\n",
        "folder = os.fsencode(path+'FullDicom/')\n",
        "\n",
        "for file in os.listdir(folder):\n",
        "  filename = os.fsdecode(file)\n",
        "\n",
        "  ds=pydicom.dcmread(path+'FullDicom/'+filename,force=True)\n",
        "  ds.file_meta.TransferSyntaxUID = pydicom.uid.ImplicitVRLittleEndian\n",
        "  image=ds.pixel_array\n",
        "  print(filename)\n",
        "  theta = np.linspace(0., 180., downfactor, endpoint=False)\n",
        "  sinogram = radon(image, theta=theta,preserve_range=True)\n",
        "  sart=iradon_sart(sinogram, theta=theta)\n",
        "  for x in range(1,sart_iterations):\n",
        "    sart = iradon_sart(sinogram, theta=theta,image=sart)\n",
        "  hu_image=transform_to_hu(ds,image)\n",
        "  brain_image = window_image(hu_image, window_lower, window_upper)\n",
        "  np.save(path+'SparseRecon/'+filename[:-3]+'npy',brain_image)\n",
        "  \n",
        "  \n",
        "\n"
      ],
      "execution_count": 0,
      "outputs": []
    },
    {
      "cell_type": "markdown",
      "metadata": {
        "id": "V4DZUWFXcBPz",
        "colab_type": "text"
      },
      "source": [
        "Image Generator"
      ]
    },
    {
      "cell_type": "code",
      "metadata": {
        "id": "SSKKbddZhCZa",
        "colab_type": "code",
        "cellView": "form",
        "colab": {}
      },
      "source": [
        "#@title\n",
        "from tensorflow import keras\n",
        "\n",
        "class ImageGenerator(keras.utils.Sequence):\n",
        "    def __init__(self, list_IDs, data_dir, batch_size = 32, x_dim=(512,512,1), y_dim=(512,512,1), shuffle=True):\n",
        "        self.list_IDs = list_IDs\n",
        "        self.data_dir = data_dir\n",
        "        self.batch_size = batch_size\n",
        "        self.x_dim = x_dim\n",
        "        self.y_dim = y_dim\n",
        "        self.shuffle = shuffle\n",
        "        self.on_epoch_end()\n",
        "    \n",
        "    def __len__(self):\n",
        "        return int(np.floor(len(self.list_IDs)/self.batch_size))\n",
        "    \n",
        "    def on_epoch_end(self):\n",
        "        self.indexes = np.arange(len(self.list_IDs))\n",
        "        if self.shuffle == True:\n",
        "            np.random.shuffle(self.indexes)\n",
        "    \n",
        "    def __getitem__(self, index):\n",
        "        batch_indexes = self.indexes[index*self.batch_size:(index+1)*self.batch_size]\n",
        "        batch_IDs = [self.list_IDs[k] for k in batch_indexes]\n",
        "        \n",
        "        X, Y = self.__batch_data_generation(batch_IDs)\n",
        "        \n",
        "        return X,Y\n",
        "    \n",
        "    def __batch_data_generation(self, batch_IDs):\n",
        "        X = np.empty((self.batch_size, *self.x_dim)) #* is used to unpack the self.dim tuple\n",
        "        Y = np.empty((self.batch_size, *self.y_dim))\n",
        "        \n",
        "        for i, ID in enumerate(batch_IDs):\n",
        "            X[i,:], Y[i,:] = self.load_mat(ID)\n",
        "            \n",
        "        return X,Y\n",
        "    \n",
        "    def load_mat(self, ID):\n",
        "        filename =  str(ID)\n",
        "        input=np.load(self.data_dir+'/SparseRecon/'+filename+'.npy')\n",
        "        target=np.load(self.data_dir+'/Preprocessed/'+filename + '.npy')\n",
        "\n",
        "        input = np.reshape(input, self.x_dim)\n",
        "        target = np.reshape(target, self.y_dim)\n",
        "        return input,target\n",
        "\n",
        "if __name__ == '__main__':\n",
        "   \n",
        "    generator = ImageGenerator(list(np.arange(1, 11)), path)\n",
        "    #print(generator.load_mat(5))"
      ],
      "execution_count": 0,
      "outputs": []
    },
    {
      "cell_type": "markdown",
      "metadata": {
        "id": "MY6lU2xdj2fX",
        "colab_type": "text"
      },
      "source": [
        "U-Net"
      ]
    },
    {
      "cell_type": "code",
      "metadata": {
        "id": "kF6zEpZkog3h",
        "colab_type": "code",
        "cellView": "form",
        "colab": {}
      },
      "source": [
        "#@title\n",
        "from tensorflow  import keras\n",
        "\n",
        "def UNet(input_size, pretrained_weights = None):\n",
        "    inputs = keras.Input(shape = input_size)\n",
        "    \n",
        "    #level 1\n",
        "    conv64_1 = keras.layers.Conv2D(64, [3,3], [1,1], 'same', activation = 'relu')(inputs)\n",
        "    conv64_1_BN = keras.layers.BatchNormalization()(conv64_1)\n",
        "    conv64_2 = keras.layers.Conv2D(64, [3,3], [1,1], 'same', activation = 'relu')(conv64_1_BN)\n",
        "    conv64_2_BN = keras.layers.BatchNormalization()(conv64_2)\n",
        "    conv64_3 = keras.layers.Conv2D(64, [3,3], [1,1], 'same', activation = 'relu')(conv64_2_BN)\n",
        "    conv64_3_BN = keras.layers.BatchNormalization()(conv64_3)\n",
        "    \n",
        "    #downsampling to level 2\n",
        "    conv64_3_pool = keras.layers.MaxPool2D([2,2], padding = 'valid')(conv64_3_BN)\n",
        "    conv128_1 = keras.layers.Conv2D(128, [3,3], [1,1], 'same', activation = 'relu')(conv64_3_pool)\n",
        "    conv128_1_BN = keras.layers.BatchNormalization()(conv128_1)\n",
        "    conv128_2 = keras.layers.Conv2D(128, [3,3], [1,1], 'same', activation = 'relu')(conv128_1_BN)\n",
        "    conv128_2_BN = keras.layers.BatchNormalization()(conv128_2)\n",
        "    \n",
        "    #downsampling to level 3\n",
        "    conv128_2_pool = keras.layers.MaxPool2D([2,2], padding = 'valid')(conv128_2_BN)\n",
        "    conv256_1 = keras.layers.Conv2D(256, [3,3], [1,1], 'same', activation = 'relu')(conv128_2_pool)\n",
        "    conv256_1_BN = keras.layers.BatchNormalization()(conv256_1)\n",
        "    conv256_2 = keras.layers.Conv2D(256, [3,3], [1,1], 'same', activation = 'relu')(conv256_1_BN)\n",
        "    conv256_2_BN = keras.layers.BatchNormalization()(conv256_2)\n",
        "    \n",
        "    #downsampling to level 4\n",
        "    conv256_2_pool = keras.layers.MaxPool2D([2,2], padding = 'valid')(conv256_2_BN)\n",
        "    conv512_1 = keras.layers.Conv2D(512, [3,3], [1,1], 'same', activation = 'relu')(conv256_2_pool)\n",
        "    conv512_1_BN = keras.layers.BatchNormalization()(conv512_1)\n",
        "    conv512_2 = keras.layers.Conv2D(512, [3,3], [1,1], 'same', activation = 'relu')(conv512_1_BN)\n",
        "    conv512_2_BN = keras.layers.BatchNormalization()(conv512_2)\n",
        "    \n",
        "    #downsampling to level 5\n",
        "    conv512_2_pool = keras.layers.MaxPool2D([2,2], padding = 'valid')(conv512_2_BN)\n",
        "    conv1024_1 = keras.layers.Conv2D(1024, [3,3], [1,1], 'same', activation = 'relu')(conv512_2_pool)\n",
        "    conv1024_1_BN = keras.layers.BatchNormalization()(conv1024_1)\n",
        "    conv1024_2 = keras.layers.Conv2D(1024, [3,3], [1,1], 'same', activation = 'relu')(conv1024_1_BN)\n",
        "    conv1024_2_BN = keras.layers.BatchNormalization()(conv1024_2)\n",
        "    \n",
        "    #upsampling to level 4\n",
        "    level4_ini = keras.layers.Conv2D(512, [3,3], [1,1], 'same', activation='relu')(keras.layers.UpSampling2D((2,2))(conv1024_2_BN))\n",
        "    level4_ini_concat = keras.layers.concatenate([conv512_2_BN, level4_ini], axis = -1)\n",
        "    conv512_1_up = keras.layers.Conv2D(512, [3,3], [1,1], 'same', activation = 'relu')(level4_ini_concat)\n",
        "    conv512_1_BN_up = keras.layers.BatchNormalization()(conv512_1_up)\n",
        "    conv512_2_up = keras.layers.Conv2D(512, [3,3], [1,1], 'same', activation = 'relu')(conv512_1_BN_up)\n",
        "    conv512_2_BN_up = keras.layers.BatchNormalization()(conv512_2_up)\n",
        "    \n",
        "    #upsampling to level 3\n",
        "    level3_ini = keras.layers.Conv2D(256, [3,3], [1,1], 'same', activation='relu')(keras.layers.UpSampling2D((2,2))(conv512_2_BN_up))\n",
        "    level3_ini_concat = keras.layers.concatenate([conv256_2_BN, level3_ini], axis = -1)\n",
        "    conv256_1_up = keras.layers.Conv2D(256, [3,3], [1,1], 'same', activation = 'relu')(level3_ini_concat)\n",
        "    conv256_1_BN_up = keras.layers.BatchNormalization()(conv256_1_up)\n",
        "    conv256_2_up = keras.layers.Conv2D(256, [3,3], [1,1], 'same', activation = 'relu')(conv256_1_BN_up)\n",
        "    conv256_2_BN_up = keras.layers.BatchNormalization()(conv256_2_up)\n",
        "    \n",
        "    #upsampling to level 2\n",
        "    level2_ini = keras.layers.Conv2D(128, [3,3], [1,1], 'same', activation='relu')(keras.layers.UpSampling2D((2,2))(conv256_2_BN_up))\n",
        "    level2_ini_concat = keras.layers.concatenate([conv128_2_BN, level2_ini], axis = -1)\n",
        "    conv128_1_up = keras.layers.Conv2D(128, [3,3], [1,1], 'same', activation = 'relu')(level2_ini_concat)\n",
        "    conv128_1_BN_up = keras.layers.BatchNormalization()(conv128_1_up)\n",
        "    conv128_2_up = keras.layers.Conv2D(128, [3,3], [1,1], 'same', activation = 'relu')(conv128_1_BN_up)\n",
        "    conv128_2_BN_up = keras.layers.BatchNormalization()(conv128_2_up)\n",
        "    \n",
        "    #upsampling to level 1\n",
        "    level1_ini = keras.layers.Conv2D(64, [3,3], [1,1], 'same', activation='relu')(keras.layers.UpSampling2D((2,2))(conv128_2_BN_up))\n",
        "    level1_ini_concat = keras.layers.concatenate([conv64_3_BN, level1_ini], axis = -1)\n",
        "    conv64_1_up = keras.layers.Conv2D(64, [3,3], [1,1], 'same', activation = 'relu')(level1_ini_concat)\n",
        "    conv64_1_BN_up = keras.layers.BatchNormalization()(conv64_1_up)\n",
        "    conv64_2_up = keras.layers.Conv2D(64, [3,3], [1,1], 'same', activation = 'relu')(conv64_1_BN_up)\n",
        "    conv64_2_BN_up = keras.layers.BatchNormalization()(conv64_2_up)\n",
        "    conv1_up = keras.layers.Conv2D(1, [1,1], [1,1], 'same')(conv64_2_BN_up)\n",
        "    outputs = keras.layers.add([inputs, conv1_up])\n",
        "    \n",
        "    \n",
        "    ###################################################################################\n",
        "    model = keras.models.Model(inputs = inputs, outputs = outputs)\n",
        "    if pretrained_weights:\n",
        "        model.load_weights(pretrained_weights)\n",
        "    \n",
        "    return model\n",
        "\n",
        "if __name__ == '__main__':\n",
        "    model = UNet((512,512,1))\n",
        "    #model.summary()\n",
        "    "
      ],
      "execution_count": 0,
      "outputs": []
    },
    {
      "cell_type": "markdown",
      "metadata": {
        "id": "YucqZGGMkSqZ",
        "colab_type": "text"
      },
      "source": [
        "Plots"
      ]
    },
    {
      "cell_type": "code",
      "metadata": {
        "id": "7w87eOKM83Lf",
        "colab_type": "code",
        "cellView": "form",
        "colab": {}
      },
      "source": [
        "#@title\n",
        "from matplotlib import pyplot as plt\n",
        "from IPython.display import clear_output\n",
        "class PlotLearning(keras.callbacks.Callback):\n",
        "    def on_train_begin(self, logs={}):\n",
        "        self.i = 0\n",
        "        self.x = []\n",
        "        self.losses = []\n",
        "        self.val_losses = []\n",
        "        #self.acc = []\n",
        "        #self.val_acc = []\n",
        "        self.ssim=[]\n",
        "        self.psnr=[]\n",
        "        self.fig = plt.figure()\n",
        "        \n",
        "        self.logs = []\n",
        "\n",
        "    def on_epoch_end(self, epoch, logs={}):\n",
        "        \n",
        "        self.logs.append(logs)\n",
        "        self.x.append(self.i)\n",
        "        self.losses.append(logs.get('loss'))\n",
        "        self.val_losses.append(logs.get('val_loss'))\n",
        "        self.ssim.append(logs.get('ssim_loss'))\n",
        "        self.psnr.append(logs.get('psnr'))\n",
        "        #self.acc.append(logs.get('acc'))\n",
        "        #self.val_acc.append(logs.get('val_acc'))\n",
        "        self.i += 1\n",
        "        f, (ax1,ax2,ax3) = plt.subplots(1, 3,figsize=(16,8), sharex=True)\n",
        "        \n",
        "        clear_output(wait=True)\n",
        "        \n",
        "        ax1.set_yscale('log')\n",
        "        ax1.plot(self.x, self.losses, label=\"loss\")\n",
        "        ax1.plot(self.x, self.val_losses, label=\"val_loss\")\n",
        "        ax1.set_ylabel('MSE')\n",
        "        ax1.set_xlabel('Epoch')\n",
        "        ax1.legend()\n",
        "        \n",
        "        ax2.plot(self.x, self.ssim, label=\"ssim\")\n",
        "        ax2.set_ylabel('SSIM')\n",
        "        ax2.set_xlabel('Epoch')\n",
        "        ax2.legend()\n",
        "        \n",
        "        ax3.plot(self.x, self.psnr, label=\"psnr\")\n",
        "        ax3.set_ylabel('PSNR')\n",
        "        ax3.set_xlabel('Epoch')\n",
        "        ax3.legend()\n",
        "    \n",
        "        plt.savefig(path+'graph100.png')\n",
        "        plt.show()\n",
        "\n",
        "        \n",
        "plot = PlotLearning()"
      ],
      "execution_count": 0,
      "outputs": []
    },
    {
      "cell_type": "markdown",
      "metadata": {
        "id": "-sJYkb6kkG4_",
        "colab_type": "text"
      },
      "source": [
        "Metrics for Evaluation"
      ]
    },
    {
      "cell_type": "code",
      "metadata": {
        "id": "QYMNzbzBRcbN",
        "colab_type": "code",
        "outputId": "20469a66-a7aa-4b67-cb8e-2ec2776782f5",
        "cellView": "form",
        "colab": {
          "base_uri": "https://localhost:8080/",
          "height": 34
        }
      },
      "source": [
        "#@title\n",
        "import tensorflow as tf\n",
        "from keras import backend\n",
        "\n",
        " \n",
        "# Structural Similarity Index\n",
        "def ssim_loss(y_true, y_pred):\n",
        "  return tf.reduce_mean(tf.image.ssim(y_true, y_pred, 255))\n",
        "\n",
        "# Peak Signal To Noise Ratio\n",
        "def psnr(y_true, y_pred):\n",
        "  return tf.reduce_mean(tf.image.psnr(y_true, y_pred, 255))\n"
      ],
      "execution_count": 0,
      "outputs": [
        {
          "output_type": "stream",
          "text": [
            "Using TensorFlow backend.\n"
          ],
          "name": "stderr"
        }
      ]
    },
    {
      "cell_type": "markdown",
      "metadata": {
        "id": "DbBAcvy-kvSp",
        "colab_type": "text"
      },
      "source": [
        "Training"
      ]
    },
    {
      "cell_type": "code",
      "metadata": {
        "id": "JwRKNpxMeYXR",
        "colab_type": "code",
        "outputId": "58fb51c1-28f5-4c5c-ba01-e987066a130d",
        "cellView": "both",
        "colab": {
          "base_uri": "https://localhost:8080/",
          "height": 534
        }
      },
      "source": [
        "#@title\n",
        "\n",
        "\n",
        "train_IDs = list(np.arange(1, 41))\n",
        "val_IDs = list(np.arange(41, 51))\n",
        "train_generator = ImageGenerator(train_IDs, path, batch_size = 2)\n",
        "val_generator = ImageGenerator(val_IDs, path, batch_size = 2)\n",
        "\n",
        "model = UNet((512,512,1))\n",
        "model.compile(optimizer = 'rmsprop', loss = 'mean_squared_error', metrics = [ssim_loss,psnr])\n",
        "history= model.fit_generator(train_generator, epochs = 150, validation_data = val_generator,\n",
        "                    workers = 6, callbacks = [plot])\n",
        "model.save(path+\"modelsart100.h5\")"
      ],
      "execution_count": 0,
      "outputs": [
        {
          "output_type": "display_data",
          "data": {
            "image/png": "[encoded data removed]",
            "text/plain": [
              "<Figure size 1152x576 with 3 Axes>"
            ]
          },
          "metadata": {
            "tags": [],
            "needs_background": "light"
          }
        },
        {
          "output_type": "stream",
          "text": [
            "\b\b\b\b\b\b\b\b\b\b\b\b\b\b\b\b\b\b\b\b\b\b\b\b\b\b\b\b\b\b\b\b\b\b\b\b\b\b\b\b\b\b\b\b\b\b\b\b\b\b\b\b\b\b\b\b\b\b\b\b\b\b\b\b\b\b\b\b\b\b\b\b\b\b\b\b\b\b\b\b\b\b\b\b\b\b\b\b\b\b\b\b\b\b\b\b\b\b\b\r20/20 [==============================] - 35s 2s/step - loss: 0.1401 - ssim_loss: 0.9948 - psnr: 60.5693 - val_loss: 85.8311 - val_ssim_loss: 0.9605 - val_psnr: 28.7946\n"
          ],
          "name": "stdout"
        }
      ]
    },
    {
      "cell_type": "code",
      "metadata": {
        "id": "AgtBrL2m4Vl1",
        "colab_type": "code",
        "colab": {}
      },
      "source": [
        ""
      ],
      "execution_count": 0,
      "outputs": []
    }
  ]
}