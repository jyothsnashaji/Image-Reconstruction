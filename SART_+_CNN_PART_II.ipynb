{
  "nbformat": 4,
  "nbformat_minor": 0,
  "metadata": {
    "colab": {
      "name": "SART + CNN PART II",
      "provenance": [],
      "collapsed_sections": [],
      "include_colab_link": true
    },
    "kernelspec": {
      "name": "python3",
      "display_name": "Python 3"
    },
    "accelerator": "GPU"
  },
  "cells": [
    {
      "cell_type": "markdown",
      "metadata": {
        "id": "view-in-github",
        "colab_type": "text"
      },
      "source": [
        "<a href=\"https://colab.research.google.com/github/jyothsnashaji/Image-Reconstruction/blob/master/SART_%2B_CNN_PART_II.ipynb\" target=\"_parent\"><img src=\"https://colab.research.google.com/assets/colab-badge.svg\" alt=\"Open In Colab\"/></a>"
      ]
    },
    {
      "cell_type": "code",
      "metadata": {
        "id": "AIzl5f9kU9C_",
        "colab_type": "code",
        "cellView": "both",
        "outputId": "611a5453-73e1-4c10-e9ff-761377afbba0",
        "colab": {
          "base_uri": "https://localhost:8080/",
          "height": 309
        }
      },
      "source": [
        "#@title\n",
        "!pip install pydicom\n",
        "!pip install gputil\n",
        "!ln -sf /opt/bin/nvidia-smi /usr/bin/nvidia-smi\n",
        "!pip install psutil\n",
        "!pip install humanize"
      ],
      "execution_count": 1,
      "outputs": [
        {
          "output_type": "stream",
          "text": [
            "Collecting pydicom\n",
            "\u001b[?25l  Downloading https://files.pythonhosted.org/packages/53/e6/4cae2b4b2fdbea5e2ddd188361139606d8f10f710ba1abecd6600da099c3/pydicom-1.4.2-py2.py3-none-any.whl (35.3MB)\n",
            "\u001b[K     |████████████████████████████████| 35.3MB 90kB/s \n",
            "\u001b[?25hInstalling collected packages: pydicom\n",
            "Successfully installed pydicom-1.4.2\n",
            "Collecting gputil\n",
            "  Downloading https://files.pythonhosted.org/packages/ed/0e/5c61eedde9f6c87713e89d794f01e378cfd9565847d4576fa627d758c554/GPUtil-1.4.0.tar.gz\n",
            "Building wheels for collected packages: gputil\n",
            "  Building wheel for gputil (setup.py) ... \u001b[?25l\u001b[?25hdone\n",
            "  Created wheel for gputil: filename=GPUtil-1.4.0-cp36-none-any.whl size=7413 sha256=cb3c6baa881b151e6d9b14b08b6a4d42cd8331c96fde630b16a781e4aad34103\n",
            "  Stored in directory: /root/.cache/pip/wheels/3d/77/07/80562de4bb0786e5ea186911a2c831fdd0018bda69beab71fd\n",
            "Successfully built gputil\n",
            "Installing collected packages: gputil\n",
            "Successfully installed gputil-1.4.0\n",
            "Requirement already satisfied: psutil in /usr/local/lib/python3.6/dist-packages (5.4.8)\n",
            "Requirement already satisfied: humanize in /usr/local/lib/python3.6/dist-packages (0.5.1)\n"
          ],
          "name": "stdout"
        }
      ]
    },
    {
      "cell_type": "code",
      "metadata": {
        "id": "hKkrO2xKU3Mt",
        "colab_type": "code",
        "colab": {}
      },
      "source": [
        "from google.colab import drive\n",
        "drive.flush_and_unmount()"
      ],
      "execution_count": 0,
      "outputs": []
    },
    {
      "cell_type": "code",
      "metadata": {
        "id": "uvmTWoqY_A2l",
        "colab_type": "code",
        "outputId": "4cd549d7-7e93-48be-9f8b-3a1420ad451b",
        "colab": {
          "base_uri": "https://localhost:8080/",
          "height": 122
        }
      },
      "source": [
        "from google.colab import drive\n",
        "drive.mount('/content/drive')"
      ],
      "execution_count": 2,
      "outputs": [
        {
          "output_type": "stream",
          "text": [
            "Go to this URL in a browser: https://accounts.google.com/o/oauth2/auth?client_id=947318989803-6bn6qk8qdgf4n4g3pfee6491hc0brc4i.apps.googleusercontent.com&redirect_uri=urn%3aietf%3awg%3aoauth%3a2.0%3aoob&response_type=code&scope=email%20https%3a%2f%2fwww.googleapis.com%2fauth%2fdocs.test%20https%3a%2f%2fwww.googleapis.com%2fauth%2fdrive%20https%3a%2f%2fwww.googleapis.com%2fauth%2fdrive.photos.readonly%20https%3a%2f%2fwww.googleapis.com%2fauth%2fpeopleapi.readonly\n",
            "\n",
            "Enter your authorization code:\n",
            "··········\n",
            "Mounted at /content/drive\n"
          ],
          "name": "stdout"
        }
      ]
    },
    {
      "cell_type": "markdown",
      "metadata": {
        "id": "whXhHoQ0wC57",
        "colab_type": "text"
      },
      "source": [
        "Imports"
      ]
    },
    {
      "cell_type": "code",
      "metadata": {
        "id": "kj1br0NWBjiB",
        "colab_type": "code",
        "cellView": "both",
        "outputId": "cdb6fe2d-25fc-429e-fab7-126424dea2ae",
        "colab": {
          "base_uri": "https://localhost:8080/",
          "height": 34
        }
      },
      "source": [
        "#@title\n",
        "import pydicom\n",
        "import numpy as np\n",
        "from skimage import morphology\n",
        "from scipy import ndimage\n",
        "import os\n",
        "import matplotlib.pyplot as plt\n",
        "from skimage.transform import radon, rescale,iradon_sart,iradon\n",
        "from tensorflow import keras\n",
        "import tensorflow as tf\n",
        "from keras import backend\n",
        "import GPUtil \n",
        "import sys,humanize,psutil\n",
        "import math\n",
        "\n",
        "path='/content/drive/My Drive/Major Project'\n"
      ],
      "execution_count": 1,
      "outputs": [
        {
          "output_type": "stream",
          "text": [
            "Using TensorFlow backend.\n"
          ],
          "name": "stderr"
        }
      ]
    },
    {
      "cell_type": "code",
      "metadata": {
        "id": "hfr7815JoT60",
        "colab_type": "code",
        "outputId": "3fc828ed-6cc4-4927-b724-be10de96fc09",
        "colab": {
          "base_uri": "https://localhost:8080/",
          "height": 51
        }
      },
      "source": [
        "\n",
        "# Import packages\n",
        "\n",
        "# Define function\n",
        "def mem_report():\n",
        "  print(\"CPU RAM Free: \" + humanize.naturalsize( psutil.virtual_memory().available ))\n",
        "  \n",
        "  GPUs = GPUtil.getGPUs()\n",
        "  for i, gpu in enumerate(GPUs):\n",
        "    print('GPU {:d} ... Mem Free: {:.0f}MB / {:.0f}MB | Utilization {:3.0f}%'.format(i, gpu.memoryFree, gpu.memoryTotal, gpu.memoryUtil*100))\n",
        "    \n",
        "# Execute function\n",
        "mem_report()"
      ],
      "execution_count": 2,
      "outputs": [
        {
          "output_type": "stream",
          "text": [
            "CPU RAM Free: 8.8 GB\n",
            "GPU 0 ... Mem Free: 757MB / 16280MB | Utilization  95%\n"
          ],
          "name": "stdout"
        }
      ]
    },
    {
      "cell_type": "markdown",
      "metadata": {
        "id": "5bjoDJk9_OHT",
        "colab_type": "text"
      },
      "source": [
        "Windowing and Noise Removal Functions\n",
        "\n",
        "\n"
      ]
    },
    {
      "cell_type": "code",
      "metadata": {
        "id": "nEwqDUvwVTUc",
        "colab_type": "code",
        "cellView": "form",
        "colab": {}
      },
      "source": [
        "#@title\n",
        "def transform_to_hu(medical_image, image):\n",
        "    intercept = medical_image.RescaleIntercept\n",
        "    slope = medical_image.RescaleSlope\n",
        "    hu_image = image * slope + intercept\n",
        "\n",
        "    return hu_image\n",
        "\n",
        "def window_image(image, window_center, window_width):\n",
        "    img_min = window_center - window_width // 2\n",
        "    img_max = window_center + window_width // 2\n",
        "    window_image = image.copy()\n",
        "    window_image[window_image < img_min] = img_min\n",
        "    window_image[window_image > img_max] = img_max\n",
        "    \n",
        "    return window_image\n",
        "\n",
        "def remove_noise(brain_image, display=False):\n",
        "    #medical_image = pydicom.read_file(file_path,force=True)\n",
        "    #medical_image.file_meta.TransferSyntaxUID = pydicom.uid.ImplicitVRLittleEndian\n",
        "\n",
        "    #image = medical_image.pixel_array\n",
        "    \n",
        "    #hu_image = transform_to_hu(medical_image, image)\n",
        "    #brain_image = window_image(hu_image, window_lower, window_upper)\n",
        "    # morphology.dilation creates a segmentation of the image\n",
        "    # If one pixel is between the origin and the edge of a square of size\n",
        "    # 5x5, the pixel belongs to the same class\n",
        "    \n",
        "    # We can instead use a circule using: morphology.disk(2)\n",
        "    # In this case the pixel belongs to the same class if it's between the origin\n",
        "    # and the radius\n",
        "    \n",
        "    segmentation = morphology.dilation(brain_image, np.ones((4, 4)))\n",
        "    labels, label_nb = ndimage.label(segmentation)\n",
        "    \n",
        "    label_count = np.bincount(labels.ravel().astype(np.int))\n",
        "    # The size of label_count is the number of classes/segmentations found\n",
        "    \n",
        "    # We don't use the first class since it's the background\n",
        "    label_count[0] = 0\n",
        "    \n",
        "    # We create a mask with the class with more pixels\n",
        "    # In this case should be the brain\n",
        "    mask = labels == label_count.argmax()\n",
        "    \n",
        "    # Improve the brain mask\n",
        "    mask = morphology.dilation(mask, np.ones((4, 4)))\n",
        "    mask = ndimage.morphology.binary_fill_holes(mask)\n",
        "    mask = morphology.dilation(mask, np.ones((2, 2)))\n",
        "    \n",
        "    # Since the the pixels in the mask are zero's and one's\n",
        "    # We can multiple the original image to only keep the brain region\n",
        "    masked_image = mask * brain_image\n",
        "\n",
        "    if display:\n",
        "        plt.figure(figsize=(30, 5))\n",
        "        plt.subplot(141)\n",
        "        plt.imshow(brain_image,cmap=plt.cm.Greys_r)\n",
        "        plt.title('Original Image')\n",
        "        plt.axis('off')\n",
        "        \n",
        "        plt.subplot(142)\n",
        "        plt.imshow(mask,cmap=plt.cm.Greys_r)\n",
        "        plt.title('Mask')\n",
        "        plt.axis('off')\n",
        "\n",
        "        plt.subplot(143)\n",
        "        plt.imshow(masked_image,cmap=plt.cm.Greys_r)\n",
        "        plt.title('Final Image')\n",
        "        plt.axis('off')\n",
        "    \n",
        "    return masked_image"
      ],
      "execution_count": 0,
      "outputs": []
    },
    {
      "cell_type": "markdown",
      "metadata": {
        "id": "5X-Hn6Yj_XDV",
        "colab_type": "text"
      },
      "source": [
        "Saving Preprocessed images to folder"
      ]
    },
    {
      "cell_type": "code",
      "metadata": {
        "id": "LuG74R76cgh4",
        "colab_type": "code",
        "cellView": "form",
        "colab": {}
      },
      "source": [
        "#@title\n",
        "\n",
        "\n",
        "window_center= 457\n",
        "window_width= 3000\n",
        "\n",
        "folder = os.fsencode(path+'/FullDicom')\n",
        "for file in os.listdir(folder):\n",
        "  filename= os.fsdecode(file)\n",
        "  print(filename)\n",
        "  medical_image = pydicom.read_file(path+'/FullDicom/'+filename,force=True)\n",
        "  medical_image.file_meta.TransferSyntaxUID = pydicom.uid.ImplicitVRLittleEndian\n",
        "  image = medical_image.pixel_array\n",
        "  hu_image = transform_to_hu(medical_image,image)\n",
        "  brain_image = window_image(hu_image, window_center, window_width)\n",
        "  # bone_image = window_image(hu_image, 400, 1000)\n",
        "  noise_removed=remove_noise(brain_image, display=False)\n",
        "  # fig, (ax1,ax2,ax3) = plt.subplots(1, 3, figsize=(16, 9))\n",
        "  # fig.suptitle(filename)\n",
        "  # ax1.set_title('Original')\n",
        "  # ax1.imshow(hu_image, cmap=plt.cm.Greys_r)\n",
        "  # ax2.set_title('Preprocessed')\n",
        "  # ax2.imshow(brain_image, cmap=plt.cm.Greys_r)\n",
        "  # ax3.set_title('Noise Removed')\n",
        "  # ax3.imshow(noise_removed, cmap=plt.cm.Greys_r)\n",
        "  print(np.min(image),np.max(image))\n",
        "  #np.save(path+'/Preprocessed/'+filename[:-3]+'npy',image)\n",
        "  #image=np.load(path+'/Preprocessed/'+filename[:-3]+'npy')\n",
        "  #ax4.imshow(image, cmap=plt.cm.Greys_r)\n",
        "  \n",
        "\n",
        "  \n"
      ],
      "execution_count": 0,
      "outputs": []
    },
    {
      "cell_type": "markdown",
      "metadata": {
        "id": "Bb3yQT7YW6sI",
        "colab_type": "text"
      },
      "source": [
        "Taking Sparse Projections and reconstructing image"
      ]
    },
    {
      "cell_type": "code",
      "metadata": {
        "id": "LgS_FbPeW6QT",
        "colab_type": "code",
        "cellView": "form",
        "outputId": "95ce0696-f7de-4d02-a550-c8a3fb882fbe",
        "colab": {
          "base_uri": "https://localhost:8080/",
          "height": 1000
        }
      },
      "source": [
        "#@title\n",
        "\n",
        "downfactor= 100# # Number of angles taken\n",
        "sart_iterations=5 # Number of iterations of SART\n",
        "window_center=457\n",
        "window_width=3000\n",
        "folder = os.fsencode(path+'/FullDicom/')\n",
        "\n",
        "for file in os.listdir(folder):\n",
        "  filename = os.fsdecode(file)\n",
        "\n",
        "  ds=pydicom.dcmread(path+'/FullDicom/'+filename,force=True)\n",
        "  ds.file_meta.TransferSyntaxUID = pydicom.uid.ImplicitVRLittleEndian\n",
        "  image=ds.pixel_array\n",
        "  print(filename)\n",
        "  theta = np.linspace(0., 180., downfactor, endpoint=False)\n",
        "  sinogram = radon(image, theta=theta,preserve_range=True)\n",
        "  sart=iradon_sart(sinogram, theta=theta)\n",
        "  for x in range(1,sart_iterations):\n",
        "    sart = iradon_sart(sinogram, theta=theta,image=sart)\n",
        "  # hu_image=transform_to_hu(ds,sart)\n",
        "  # brain_image = window_image(hu_image, window_center, window_width)\n",
        "  # noise_removed=remove_noise(brain_image)\n",
        "  mse_custom(image,sart)\n",
        "  #plt.imshow(sart,cmap=plt.cm.Greys_r)\n",
        "  #sart[sart<0]=0\n",
        "  #np.save(path+'/SparseRecon/'+filename[:-3]+'npy',sart)\n",
        "  \n",
        "  \n",
        "  \n",
        "  \n",
        "\n"
      ],
      "execution_count": 0,
      "outputs": [
        {
          "output_type": "stream",
          "text": [
            "0.DCM\n",
            "MSE: 593.8164846932474\n",
            "1.DCM\n",
            "MSE: 606.4157627607655\n",
            "2.DCM\n",
            "MSE: 593.39777716362\n",
            "3.DCM\n",
            "MSE: 575.4904864021325\n",
            "4.DCM\n",
            "MSE: 550.1871699535932\n",
            "5.DCM\n",
            "MSE: 533.9877563089847\n",
            "6.DCM\n",
            "MSE: 546.5519548418896\n",
            "7.DCM\n",
            "MSE: 429.53976742946446\n",
            "8.DCM\n",
            "MSE: 441.05349849665737\n",
            "9.DCM\n",
            "MSE: 424.07206129971246\n",
            "10.DCM\n",
            "MSE: 417.10780151505855\n",
            "11.DCM\n",
            "MSE: 417.39266172592085\n",
            "12.DCM\n",
            "MSE: 402.30063656524186\n",
            "13.DCM\n",
            "MSE: 398.90655081337684\n",
            "14.DCM\n",
            "MSE: 389.7630515180859\n",
            "15.DCM\n",
            "MSE: 372.313572307763\n",
            "16.DCM\n",
            "MSE: 370.2367130950151\n",
            "17.DCM\n",
            "MSE: 353.7092255880465\n",
            "18.DCM\n",
            "MSE: 349.985488153233\n",
            "19.DCM\n",
            "MSE: 347.1510556266939\n",
            "20.DCM\n",
            "MSE: 372.4230016219198\n",
            "21.DCM\n",
            "MSE: 361.30846665318546\n",
            "22.DCM\n",
            "MSE: 384.588222282315\n",
            "23.DCM\n"
          ],
          "name": "stdout"
        },
        {
          "output_type": "error",
          "ename": "KeyboardInterrupt",
          "evalue": "ignored",
          "traceback": [
            "\u001b[0;31m---------------------------------------------------------------------------\u001b[0m",
            "\u001b[0;31mKeyboardInterrupt\u001b[0m                         Traceback (most recent call last)",
            "\u001b[0;32m<ipython-input-38-7025eb68590b>\u001b[0m in \u001b[0;36m<module>\u001b[0;34m()\u001b[0m\n\u001b[1;32m     14\u001b[0m   \u001b[0mprint\u001b[0m\u001b[0;34m(\u001b[0m\u001b[0mfilename\u001b[0m\u001b[0;34m)\u001b[0m\u001b[0;34m\u001b[0m\u001b[0;34m\u001b[0m\u001b[0m\n\u001b[1;32m     15\u001b[0m   \u001b[0mtheta\u001b[0m \u001b[0;34m=\u001b[0m \u001b[0mnp\u001b[0m\u001b[0;34m.\u001b[0m\u001b[0mlinspace\u001b[0m\u001b[0;34m(\u001b[0m\u001b[0;36m0.\u001b[0m\u001b[0;34m,\u001b[0m \u001b[0;36m180.\u001b[0m\u001b[0;34m,\u001b[0m \u001b[0mdownfactor\u001b[0m\u001b[0;34m,\u001b[0m \u001b[0mendpoint\u001b[0m\u001b[0;34m=\u001b[0m\u001b[0;32mFalse\u001b[0m\u001b[0;34m)\u001b[0m\u001b[0;34m\u001b[0m\u001b[0;34m\u001b[0m\u001b[0m\n\u001b[0;32m---> 16\u001b[0;31m   \u001b[0msinogram\u001b[0m \u001b[0;34m=\u001b[0m \u001b[0mradon\u001b[0m\u001b[0;34m(\u001b[0m\u001b[0mimage\u001b[0m\u001b[0;34m,\u001b[0m \u001b[0mtheta\u001b[0m\u001b[0;34m=\u001b[0m\u001b[0mtheta\u001b[0m\u001b[0;34m,\u001b[0m\u001b[0mpreserve_range\u001b[0m\u001b[0;34m=\u001b[0m\u001b[0;32mTrue\u001b[0m\u001b[0;34m)\u001b[0m\u001b[0;34m\u001b[0m\u001b[0;34m\u001b[0m\u001b[0m\n\u001b[0m\u001b[1;32m     17\u001b[0m   \u001b[0msart\u001b[0m\u001b[0;34m=\u001b[0m\u001b[0miradon_sart\u001b[0m\u001b[0;34m(\u001b[0m\u001b[0msinogram\u001b[0m\u001b[0;34m,\u001b[0m \u001b[0mtheta\u001b[0m\u001b[0;34m=\u001b[0m\u001b[0mtheta\u001b[0m\u001b[0;34m)\u001b[0m\u001b[0;34m\u001b[0m\u001b[0;34m\u001b[0m\u001b[0m\n\u001b[1;32m     18\u001b[0m   \u001b[0;32mfor\u001b[0m \u001b[0mx\u001b[0m \u001b[0;32min\u001b[0m \u001b[0mrange\u001b[0m\u001b[0;34m(\u001b[0m\u001b[0;36m1\u001b[0m\u001b[0;34m,\u001b[0m\u001b[0msart_iterations\u001b[0m\u001b[0;34m)\u001b[0m\u001b[0;34m:\u001b[0m\u001b[0;34m\u001b[0m\u001b[0;34m\u001b[0m\u001b[0m\n",
            "\u001b[0;32m/usr/local/lib/python3.6/dist-packages/skimage/transform/radon_transform.py\u001b[0m in \u001b[0;36mradon\u001b[0;34m(image, theta, circle, preserve_range)\u001b[0m\n\u001b[1;32m    118\u001b[0m                       \u001b[0;34m[\u001b[0m\u001b[0;34m-\u001b[0m\u001b[0msin_a\u001b[0m\u001b[0;34m,\u001b[0m \u001b[0mcos_a\u001b[0m\u001b[0;34m,\u001b[0m \u001b[0;34m-\u001b[0m\u001b[0mcenter\u001b[0m \u001b[0;34m*\u001b[0m \u001b[0;34m(\u001b[0m\u001b[0mcos_a\u001b[0m \u001b[0;34m-\u001b[0m \u001b[0msin_a\u001b[0m \u001b[0;34m-\u001b[0m \u001b[0;36m1\u001b[0m\u001b[0;34m)\u001b[0m\u001b[0;34m]\u001b[0m\u001b[0;34m,\u001b[0m\u001b[0;34m\u001b[0m\u001b[0;34m\u001b[0m\u001b[0m\n\u001b[1;32m    119\u001b[0m                       [0, 0, 1]])\n\u001b[0;32m--> 120\u001b[0;31m         \u001b[0mrotated\u001b[0m \u001b[0;34m=\u001b[0m \u001b[0mwarp\u001b[0m\u001b[0;34m(\u001b[0m\u001b[0mpadded_image\u001b[0m\u001b[0;34m,\u001b[0m \u001b[0mR\u001b[0m\u001b[0;34m,\u001b[0m \u001b[0mclip\u001b[0m\u001b[0;34m=\u001b[0m\u001b[0;32mFalse\u001b[0m\u001b[0;34m)\u001b[0m\u001b[0;34m\u001b[0m\u001b[0;34m\u001b[0m\u001b[0m\n\u001b[0m\u001b[1;32m    121\u001b[0m         \u001b[0mradon_image\u001b[0m\u001b[0;34m[\u001b[0m\u001b[0;34m:\u001b[0m\u001b[0;34m,\u001b[0m \u001b[0mi\u001b[0m\u001b[0;34m]\u001b[0m \u001b[0;34m=\u001b[0m \u001b[0mrotated\u001b[0m\u001b[0;34m.\u001b[0m\u001b[0msum\u001b[0m\u001b[0;34m(\u001b[0m\u001b[0;36m0\u001b[0m\u001b[0;34m)\u001b[0m\u001b[0;34m\u001b[0m\u001b[0;34m\u001b[0m\u001b[0m\n\u001b[1;32m    122\u001b[0m     \u001b[0;32mreturn\u001b[0m \u001b[0mradon_image\u001b[0m\u001b[0;34m\u001b[0m\u001b[0;34m\u001b[0m\u001b[0m\n",
            "\u001b[0;32m/usr/local/lib/python3.6/dist-packages/skimage/transform/_warps.py\u001b[0m in \u001b[0;36mwarp\u001b[0;34m(image, inverse_map, map_args, output_shape, order, mode, cval, clip, preserve_range)\u001b[0m\n\u001b[1;32m    854\u001b[0m                 warped = _warp_fast[ctype](image, matrix,\n\u001b[1;32m    855\u001b[0m                                            \u001b[0moutput_shape\u001b[0m\u001b[0;34m=\u001b[0m\u001b[0moutput_shape\u001b[0m\u001b[0;34m,\u001b[0m\u001b[0;34m\u001b[0m\u001b[0;34m\u001b[0m\u001b[0m\n\u001b[0;32m--> 856\u001b[0;31m                                            order=order, mode=mode, cval=cval)\n\u001b[0m\u001b[1;32m    857\u001b[0m             \u001b[0;32melif\u001b[0m \u001b[0mimage\u001b[0m\u001b[0;34m.\u001b[0m\u001b[0mndim\u001b[0m \u001b[0;34m==\u001b[0m \u001b[0;36m3\u001b[0m\u001b[0;34m:\u001b[0m\u001b[0;34m\u001b[0m\u001b[0;34m\u001b[0m\u001b[0m\n\u001b[1;32m    858\u001b[0m                 \u001b[0mdims\u001b[0m \u001b[0;34m=\u001b[0m \u001b[0;34m[\u001b[0m\u001b[0;34m]\u001b[0m\u001b[0;34m\u001b[0m\u001b[0;34m\u001b[0m\u001b[0m\n",
            "\u001b[0;32mskimage/transform/_warps_cy.pyx\u001b[0m in \u001b[0;36mskimage.transform._warps_cy._warp_fast\u001b[0;34m()\u001b[0m\n",
            "\u001b[0;32m/usr/local/lib/python3.6/dist-packages/numpy/core/_asarray.py\u001b[0m in \u001b[0;36masarray\u001b[0;34m(a, dtype, order)\u001b[0m\n\u001b[1;32m     14\u001b[0m ]\n\u001b[1;32m     15\u001b[0m \u001b[0;34m\u001b[0m\u001b[0m\n\u001b[0;32m---> 16\u001b[0;31m \u001b[0;34m@\u001b[0m\u001b[0mset_module\u001b[0m\u001b[0;34m(\u001b[0m\u001b[0;34m'numpy'\u001b[0m\u001b[0;34m)\u001b[0m\u001b[0;34m\u001b[0m\u001b[0;34m\u001b[0m\u001b[0m\n\u001b[0m\u001b[1;32m     17\u001b[0m \u001b[0;32mdef\u001b[0m \u001b[0masarray\u001b[0m\u001b[0;34m(\u001b[0m\u001b[0ma\u001b[0m\u001b[0;34m,\u001b[0m \u001b[0mdtype\u001b[0m\u001b[0;34m=\u001b[0m\u001b[0;32mNone\u001b[0m\u001b[0;34m,\u001b[0m \u001b[0morder\u001b[0m\u001b[0;34m=\u001b[0m\u001b[0;32mNone\u001b[0m\u001b[0;34m)\u001b[0m\u001b[0;34m:\u001b[0m\u001b[0;34m\u001b[0m\u001b[0;34m\u001b[0m\u001b[0m\n\u001b[1;32m     18\u001b[0m     \"\"\"Convert the input to an array.\n",
            "\u001b[0;31mKeyboardInterrupt\u001b[0m: "
          ]
        }
      ]
    },
    {
      "cell_type": "markdown",
      "metadata": {
        "id": "V4DZUWFXcBPz",
        "colab_type": "text"
      },
      "source": [
        "Image Generator"
      ]
    },
    {
      "cell_type": "code",
      "metadata": {
        "id": "SSKKbddZhCZa",
        "colab_type": "code",
        "cellView": "form",
        "colab": {}
      },
      "source": [
        "#@title  { form-width: \"5px\" }\n",
        "\n",
        "class ImageGenerator(keras.utils.Sequence):\n",
        "    def __init__(self, list_IDs, data_dir, batch_size = 32, x_dim=(512,512,1), y_dim=(512,512,1), shuffle=True):\n",
        "        self.list_IDs = list_IDs\n",
        "        self.data_dir = data_dir\n",
        "        self.batch_size = batch_size\n",
        "        self.x_dim = x_dim\n",
        "        self.y_dim = y_dim\n",
        "        self.shuffle = shuffle\n",
        "        self.on_epoch_end()\n",
        "    \n",
        "    def __len__(self):\n",
        "        return int(np.floor(len(self.list_IDs)/self.batch_size))\n",
        "    \n",
        "    def on_epoch_end(self):\n",
        "        self.indexes = np.arange(len(self.list_IDs))\n",
        "        if self.shuffle == True:\n",
        "            np.random.shuffle(self.indexes)\n",
        "    \n",
        "    def __getitem__(self, index):\n",
        "        batch_indexes = self.indexes[index*self.batch_size:(index+1)*self.batch_size]\n",
        "        batch_IDs = [self.list_IDs[k] for k in batch_indexes]\n",
        "        \n",
        "        X, Y = self.__batch_data_generation(batch_IDs)\n",
        "        \n",
        "        return X,Y\n",
        "    \n",
        "    def __batch_data_generation(self, batch_IDs):\n",
        "        X = np.empty((self.batch_size, *self.x_dim)) #* is used to unpack the self.dim tuple\n",
        "        Y = np.empty((self.batch_size, *self.y_dim))\n",
        "        \n",
        "        for i, ID in enumerate(batch_IDs):\n",
        "            X[i,:], Y[i,:] = self.load_mat(ID)\n",
        "            \n",
        "        return X,Y\n",
        "    \n",
        "    def load_mat(self, ID):\n",
        "        filename =  str(ID)\n",
        "        input=np.load(self.data_dir+'/SparseRecon/'+filename+'.npy')\n",
        "        target=np.load(self.data_dir+'/Preprocessed/'+filename + '.npy')\n",
        "        # fig,(ax1,ax2)=plt.subplots(1,2)\n",
        "        # ax1.imshow(np.squeeze(input), cmap=plt.cm.Greys_r)        \n",
        "        # ax2.imshow(np.squeeze(target), cmap=plt.cm.Greys_r)        \n",
        "\n",
        "        input = np.reshape(input, self.x_dim)\n",
        "        target = np.reshape(target, self.y_dim)\n",
        "        # print(np.min(input),np.max(input))\n",
        "        # print(np.min(target),np.max(target))\n",
        "        # with tf.compat.v1.Session() as sess:\n",
        "        #    print(str(ssim_loss(target,input).eval()))\n",
        "\n",
        "        # error = target - input\n",
        "        # print(f\"{np.sqrt(np.mean(error**2)):.3g}\")\n",
        "        return input,target\n",
        "\n",
        "if __name__ == '__main__':\n",
        "   \n",
        "    generator = ImageGenerator(list(np.arange(1, 11)), path)\n",
        "    generator.load_mat(5)"
      ],
      "execution_count": 0,
      "outputs": []
    },
    {
      "cell_type": "markdown",
      "metadata": {
        "id": "MY6lU2xdj2fX",
        "colab_type": "text"
      },
      "source": [
        "U-Net"
      ]
    },
    {
      "cell_type": "code",
      "metadata": {
        "id": "kF6zEpZkog3h",
        "colab_type": "code",
        "cellView": "form",
        "colab": {
          "base_uri": "https://localhost:8080/",
          "height": 1000
        },
        "outputId": "7e83a4dc-39cb-4fac-f1f5-f71295ad7644"
      },
      "source": [
        "#@title  { form-width: \"1px\" }\n",
        "\n",
        "def UNet(input_size, pretrained_weights = None):\n",
        "    inputs = keras.Input(shape = input_size)\n",
        "    \n",
        "    #level 1\n",
        "    conv64_1 = keras.layers.Conv2D(64, [3,3], [1,1], 'same', activation = 'relu')(inputs)\n",
        "    conv64_1_BN = keras.layers.BatchNormalization()(conv64_1)\n",
        "    conv64_2 = keras.layers.Conv2D(64, [3,3], [1,1], 'same', activation = 'relu')(conv64_1_BN)\n",
        "    conv64_2_BN = keras.layers.BatchNormalization()(conv64_2)\n",
        "    conv64_3 = keras.layers.Conv2D(64, [3,3], [1,1], 'same', activation = 'relu')(conv64_2_BN)\n",
        "    conv64_3_BN = keras.layers.BatchNormalization()(conv64_3)\n",
        "    \n",
        "    #downsampling to level 2\n",
        "    conv64_3_pool = keras.layers.MaxPool2D([2,2], padding = 'valid')(conv64_3_BN)\n",
        "    conv64_3_pool=keras.layers.Dropout(0.25)(conv64_3_pool)\n",
        "\n",
        "    conv128_1 = keras.layers.Conv2D(128, [3,3], [1,1], 'same', activation = 'relu')(conv64_3_pool)\n",
        "    conv128_1_BN = keras.layers.BatchNormalization()(conv128_1)\n",
        "    conv128_2 = keras.layers.Conv2D(128, [3,3], [1,1], 'same', activation = 'relu')(conv128_1_BN)\n",
        "    conv128_2_BN = keras.layers.BatchNormalization()(conv128_2)\n",
        "    \n",
        "    #downsampling to level 3\n",
        "    conv128_2_pool = keras.layers.MaxPool2D([2,2], padding = 'valid')(conv128_2_BN)\n",
        "    conv128_2_pool=keras.layers.Dropout(0.5)(conv128_2_pool)\n",
        "\n",
        "    conv256_1 = keras.layers.Conv2D(256, [3,3], [1,1], 'same', activation = 'relu')(conv128_2_pool)\n",
        "    conv256_1_BN = keras.layers.BatchNormalization()(conv256_1)\n",
        "    conv256_2 = keras.layers.Conv2D(256, [3,3], [1,1], 'same', activation = 'relu')(conv256_1_BN)\n",
        "    conv256_2_BN = keras.layers.BatchNormalization()(conv256_2)\n",
        "    \n",
        "    #downsampling to level 4\n",
        "    conv256_2_pool = keras.layers.MaxPool2D([2,2], padding = 'valid')(conv256_2_BN)\n",
        "    conv256_2_pool=keras.layers.Dropout(0.5)(conv256_2_pool)\n",
        "\n",
        "    conv512_1 = keras.layers.Conv2D(512, [3,3], [1,1], 'same', activation = 'relu')(conv256_2_pool)\n",
        "    conv512_1_BN = keras.layers.BatchNormalization()(conv512_1)\n",
        "    conv512_2 = keras.layers.Conv2D(512, [3,3], [1,1], 'same', activation = 'relu')(conv512_1_BN)\n",
        "    conv512_2_BN = keras.layers.BatchNormalization()(conv512_2)\n",
        "    \n",
        "    #downsampling to level 5\n",
        "    conv512_2_pool = keras.layers.MaxPool2D([2,2], padding = 'valid')(conv512_2_BN)\n",
        "    conv512_2_pool=keras.layers.Dropout(0.5)(conv512_2_pool)\n",
        "\n",
        "    conv1024_1 = keras.layers.Conv2D(1024, [3,3], [1,1], 'same', activation = 'relu')(conv512_2_pool)\n",
        "    conv1024_1_BN = keras.layers.BatchNormalization()(conv1024_1)\n",
        "    conv1024_2 = keras.layers.Conv2D(1024, [3,3], [1,1], 'same', activation = 'relu')(conv1024_1_BN)\n",
        "    conv1024_2_BN = keras.layers.BatchNormalization()(conv1024_2)\n",
        "    \n",
        "    #upsampling to level 4\n",
        "    level4_ini = keras.layers.Conv2D(512, [3,3], [1,1], 'same', activation='relu')(keras.layers.UpSampling2D((2,2))(conv1024_2_BN))\n",
        "    level4_ini_concat = keras.layers.concatenate([conv512_2_BN, level4_ini], axis = -1)\n",
        "    level4_ini_concat=keras.layers.Dropout(0.5)(level4_ini_concat)\n",
        "    \n",
        "    conv512_1_up = keras.layers.Conv2D(512, [3,3], [1,1], 'same', activation = 'relu')(level4_ini_concat)\n",
        "    conv512_1_BN_up = keras.layers.BatchNormalization()(conv512_1_up)\n",
        "    conv512_2_up = keras.layers.Conv2D(512, [3,3], [1,1], 'same', activation = 'relu')(conv512_1_BN_up)\n",
        "    conv512_2_BN_up = keras.layers.BatchNormalization()(conv512_2_up)\n",
        "    \n",
        "    #upsampling to level 3\n",
        "    level3_ini = keras.layers.Conv2D(256, [3,3], [1,1], 'same', activation='relu')(keras.layers.UpSampling2D((2,2))(conv512_2_BN_up))\n",
        "    level3_ini_concat = keras.layers.concatenate([conv256_2_BN, level3_ini], axis = -1)\n",
        "    level3_ini_concat=keras.layers.Dropout(0.5)(level3_ini_concat)\n",
        "\n",
        "    \n",
        "    conv256_1_up = keras.layers.Conv2D(256, [3,3], [1,1], 'same', activation = 'relu')(level3_ini_concat)\n",
        "    conv256_1_BN_up = keras.layers.BatchNormalization()(conv256_1_up)\n",
        "    conv256_2_up = keras.layers.Conv2D(256, [3,3], [1,1], 'same', activation = 'relu')(conv256_1_BN_up)\n",
        "    conv256_2_BN_up = keras.layers.BatchNormalization()(conv256_2_up)\n",
        "    \n",
        "    #upsampling to level 2\n",
        "    level2_ini = keras.layers.Conv2D(128, [3,3], [1,1], 'same', activation='relu')(keras.layers.UpSampling2D((2,2))(conv256_2_BN_up))\n",
        "    level2_ini_concat = keras.layers.concatenate([conv128_2_BN, level2_ini], axis = -1)\n",
        "    level2_ini_concat=keras.layers.Dropout(0.5)(level2_ini_concat)\n",
        "\n",
        "    \n",
        "    conv128_1_up = keras.layers.Conv2D(128, [3,3], [1,1], 'same', activation = 'relu')(level2_ini_concat)\n",
        "    conv128_1_BN_up = keras.layers.BatchNormalization()(conv128_1_up)\n",
        "    conv128_2_up = keras.layers.Conv2D(128, [3,3], [1,1], 'same', activation = 'relu')(conv128_1_BN_up)\n",
        "    conv128_2_BN_up = keras.layers.BatchNormalization()(conv128_2_up)\n",
        "    \n",
        "    #upsampling to level 1\n",
        "    level1_ini = keras.layers.Conv2D(64, [3,3], [1,1], 'same', activation='relu')(keras.layers.UpSampling2D((2,2))(conv128_2_BN_up))\n",
        "    level1_ini_concat = keras.layers.concatenate([conv64_3_BN, level1_ini], axis = -1)\n",
        "    level1_ini_concat=keras.layers.Dropout(0.5)(level1_ini_concat)\n",
        "\n",
        "    \n",
        "    conv64_1_up = keras.layers.Conv2D(64, [3,3], [1,1], 'same', activation = 'relu')(level1_ini_concat)\n",
        "    conv64_1_BN_up = keras.layers.BatchNormalization()(conv64_1_up)\n",
        "    conv64_2_up = keras.layers.Conv2D(64, [3,3], [1,1], 'same', activation = 'relu')(conv64_1_BN_up)\n",
        "    conv64_2_BN_up = keras.layers.BatchNormalization()(conv64_2_up)\n",
        "    conv1_up = keras.layers.Conv2D(1, [1,1], [1,1], 'same')(conv64_2_BN_up)\n",
        "    outputs = keras.layers.add([inputs, conv1_up])\n",
        "    \n",
        "    \n",
        "    ###################################################################################\n",
        "    model = keras.models.Model(inputs = inputs, outputs = outputs)\n",
        "    if pretrained_weights:\n",
        "        model.load_weights(pretrained_weights)\n",
        "    \n",
        "    return model\n",
        "\n",
        "if __name__ == '__main__':\n",
        "    model = UNet((512,512,1))\n",
        "    model.summary()\n",
        "    "
      ],
      "execution_count": 15,
      "outputs": [
        {
          "output_type": "stream",
          "text": [
            "Model: \"model\"\n",
            "__________________________________________________________________________________________________\n",
            "Layer (type)                    Output Shape         Param #     Connected to                     \n",
            "==================================================================================================\n",
            "input_5 (InputLayer)            [(None, 512, 512, 1) 0                                            \n",
            "__________________________________________________________________________________________________\n",
            "conv2d (Conv2D)                 (None, 512, 512, 64) 640         input_5[0][0]                    \n",
            "__________________________________________________________________________________________________\n",
            "batch_normalization (BatchNorma (None, 512, 512, 64) 256         conv2d[0][0]                     \n",
            "__________________________________________________________________________________________________\n",
            "conv2d_1 (Conv2D)               (None, 512, 512, 64) 36928       batch_normalization[0][0]        \n",
            "__________________________________________________________________________________________________\n",
            "batch_normalization_1 (BatchNor (None, 512, 512, 64) 256         conv2d_1[0][0]                   \n",
            "__________________________________________________________________________________________________\n",
            "conv2d_2 (Conv2D)               (None, 512, 512, 64) 36928       batch_normalization_1[0][0]      \n",
            "__________________________________________________________________________________________________\n",
            "batch_normalization_2 (BatchNor (None, 512, 512, 64) 256         conv2d_2[0][0]                   \n",
            "__________________________________________________________________________________________________\n",
            "max_pooling2d (MaxPooling2D)    (None, 256, 256, 64) 0           batch_normalization_2[0][0]      \n",
            "__________________________________________________________________________________________________\n",
            "dropout (Dropout)               (None, 256, 256, 64) 0           max_pooling2d[0][0]              \n",
            "__________________________________________________________________________________________________\n",
            "conv2d_3 (Conv2D)               (None, 256, 256, 128 73856       dropout[0][0]                    \n",
            "__________________________________________________________________________________________________\n",
            "batch_normalization_3 (BatchNor (None, 256, 256, 128 512         conv2d_3[0][0]                   \n",
            "__________________________________________________________________________________________________\n",
            "conv2d_4 (Conv2D)               (None, 256, 256, 128 147584      batch_normalization_3[0][0]      \n",
            "__________________________________________________________________________________________________\n",
            "batch_normalization_4 (BatchNor (None, 256, 256, 128 512         conv2d_4[0][0]                   \n",
            "__________________________________________________________________________________________________\n",
            "max_pooling2d_1 (MaxPooling2D)  (None, 128, 128, 128 0           batch_normalization_4[0][0]      \n",
            "__________________________________________________________________________________________________\n",
            "dropout_1 (Dropout)             (None, 128, 128, 128 0           max_pooling2d_1[0][0]            \n",
            "__________________________________________________________________________________________________\n",
            "conv2d_5 (Conv2D)               (None, 128, 128, 256 295168      dropout_1[0][0]                  \n",
            "__________________________________________________________________________________________________\n",
            "batch_normalization_5 (BatchNor (None, 128, 128, 256 1024        conv2d_5[0][0]                   \n",
            "__________________________________________________________________________________________________\n",
            "conv2d_6 (Conv2D)               (None, 128, 128, 256 590080      batch_normalization_5[0][0]      \n",
            "__________________________________________________________________________________________________\n",
            "batch_normalization_6 (BatchNor (None, 128, 128, 256 1024        conv2d_6[0][0]                   \n",
            "__________________________________________________________________________________________________\n",
            "max_pooling2d_2 (MaxPooling2D)  (None, 64, 64, 256)  0           batch_normalization_6[0][0]      \n",
            "__________________________________________________________________________________________________\n",
            "dropout_2 (Dropout)             (None, 64, 64, 256)  0           max_pooling2d_2[0][0]            \n",
            "__________________________________________________________________________________________________\n",
            "conv2d_7 (Conv2D)               (None, 64, 64, 512)  1180160     dropout_2[0][0]                  \n",
            "__________________________________________________________________________________________________\n",
            "batch_normalization_7 (BatchNor (None, 64, 64, 512)  2048        conv2d_7[0][0]                   \n",
            "__________________________________________________________________________________________________\n",
            "conv2d_8 (Conv2D)               (None, 64, 64, 512)  2359808     batch_normalization_7[0][0]      \n",
            "__________________________________________________________________________________________________\n",
            "batch_normalization_8 (BatchNor (None, 64, 64, 512)  2048        conv2d_8[0][0]                   \n",
            "__________________________________________________________________________________________________\n",
            "max_pooling2d_3 (MaxPooling2D)  (None, 32, 32, 512)  0           batch_normalization_8[0][0]      \n",
            "__________________________________________________________________________________________________\n",
            "dropout_3 (Dropout)             (None, 32, 32, 512)  0           max_pooling2d_3[0][0]            \n",
            "__________________________________________________________________________________________________\n",
            "conv2d_9 (Conv2D)               (None, 32, 32, 1024) 4719616     dropout_3[0][0]                  \n",
            "__________________________________________________________________________________________________\n",
            "batch_normalization_9 (BatchNor (None, 32, 32, 1024) 4096        conv2d_9[0][0]                   \n",
            "__________________________________________________________________________________________________\n",
            "conv2d_10 (Conv2D)              (None, 32, 32, 1024) 9438208     batch_normalization_9[0][0]      \n",
            "__________________________________________________________________________________________________\n",
            "batch_normalization_10 (BatchNo (None, 32, 32, 1024) 4096        conv2d_10[0][0]                  \n",
            "__________________________________________________________________________________________________\n",
            "up_sampling2d (UpSampling2D)    (None, 64, 64, 1024) 0           batch_normalization_10[0][0]     \n",
            "__________________________________________________________________________________________________\n",
            "conv2d_11 (Conv2D)              (None, 64, 64, 512)  4719104     up_sampling2d[0][0]              \n",
            "__________________________________________________________________________________________________\n",
            "concatenate (Concatenate)       (None, 64, 64, 1024) 0           batch_normalization_8[0][0]      \n",
            "                                                                 conv2d_11[0][0]                  \n",
            "__________________________________________________________________________________________________\n",
            "dropout_4 (Dropout)             (None, 64, 64, 1024) 0           concatenate[0][0]                \n",
            "__________________________________________________________________________________________________\n",
            "conv2d_12 (Conv2D)              (None, 64, 64, 512)  4719104     dropout_4[0][0]                  \n",
            "__________________________________________________________________________________________________\n",
            "batch_normalization_11 (BatchNo (None, 64, 64, 512)  2048        conv2d_12[0][0]                  \n",
            "__________________________________________________________________________________________________\n",
            "conv2d_13 (Conv2D)              (None, 64, 64, 512)  2359808     batch_normalization_11[0][0]     \n",
            "__________________________________________________________________________________________________\n",
            "batch_normalization_12 (BatchNo (None, 64, 64, 512)  2048        conv2d_13[0][0]                  \n",
            "__________________________________________________________________________________________________\n",
            "up_sampling2d_1 (UpSampling2D)  (None, 128, 128, 512 0           batch_normalization_12[0][0]     \n",
            "__________________________________________________________________________________________________\n",
            "conv2d_14 (Conv2D)              (None, 128, 128, 256 1179904     up_sampling2d_1[0][0]            \n",
            "__________________________________________________________________________________________________\n",
            "concatenate_1 (Concatenate)     (None, 128, 128, 512 0           batch_normalization_6[0][0]      \n",
            "                                                                 conv2d_14[0][0]                  \n",
            "__________________________________________________________________________________________________\n",
            "dropout_5 (Dropout)             (None, 128, 128, 512 0           concatenate_1[0][0]              \n",
            "__________________________________________________________________________________________________\n",
            "conv2d_15 (Conv2D)              (None, 128, 128, 256 1179904     dropout_5[0][0]                  \n",
            "__________________________________________________________________________________________________\n",
            "batch_normalization_13 (BatchNo (None, 128, 128, 256 1024        conv2d_15[0][0]                  \n",
            "__________________________________________________________________________________________________\n",
            "conv2d_16 (Conv2D)              (None, 128, 128, 256 590080      batch_normalization_13[0][0]     \n",
            "__________________________________________________________________________________________________\n",
            "batch_normalization_14 (BatchNo (None, 128, 128, 256 1024        conv2d_16[0][0]                  \n",
            "__________________________________________________________________________________________________\n",
            "up_sampling2d_2 (UpSampling2D)  (None, 256, 256, 256 0           batch_normalization_14[0][0]     \n",
            "__________________________________________________________________________________________________\n",
            "conv2d_17 (Conv2D)              (None, 256, 256, 128 295040      up_sampling2d_2[0][0]            \n",
            "__________________________________________________________________________________________________\n",
            "concatenate_2 (Concatenate)     (None, 256, 256, 256 0           batch_normalization_4[0][0]      \n",
            "                                                                 conv2d_17[0][0]                  \n",
            "__________________________________________________________________________________________________\n",
            "dropout_6 (Dropout)             (None, 256, 256, 256 0           concatenate_2[0][0]              \n",
            "__________________________________________________________________________________________________\n",
            "conv2d_18 (Conv2D)              (None, 256, 256, 128 295040      dropout_6[0][0]                  \n",
            "__________________________________________________________________________________________________\n",
            "batch_normalization_15 (BatchNo (None, 256, 256, 128 512         conv2d_18[0][0]                  \n",
            "__________________________________________________________________________________________________\n",
            "conv2d_19 (Conv2D)              (None, 256, 256, 128 147584      batch_normalization_15[0][0]     \n",
            "__________________________________________________________________________________________________\n",
            "batch_normalization_16 (BatchNo (None, 256, 256, 128 512         conv2d_19[0][0]                  \n",
            "__________________________________________________________________________________________________\n",
            "up_sampling2d_3 (UpSampling2D)  (None, 512, 512, 128 0           batch_normalization_16[0][0]     \n",
            "__________________________________________________________________________________________________\n",
            "conv2d_20 (Conv2D)              (None, 512, 512, 64) 73792       up_sampling2d_3[0][0]            \n",
            "__________________________________________________________________________________________________\n",
            "concatenate_3 (Concatenate)     (None, 512, 512, 128 0           batch_normalization_2[0][0]      \n",
            "                                                                 conv2d_20[0][0]                  \n",
            "__________________________________________________________________________________________________\n",
            "dropout_7 (Dropout)             (None, 512, 512, 128 0           concatenate_3[0][0]              \n",
            "__________________________________________________________________________________________________\n",
            "conv2d_21 (Conv2D)              (None, 512, 512, 64) 73792       dropout_7[0][0]                  \n",
            "__________________________________________________________________________________________________\n",
            "batch_normalization_17 (BatchNo (None, 512, 512, 64) 256         conv2d_21[0][0]                  \n",
            "__________________________________________________________________________________________________\n",
            "conv2d_22 (Conv2D)              (None, 512, 512, 64) 36928       batch_normalization_17[0][0]     \n",
            "__________________________________________________________________________________________________\n",
            "batch_normalization_18 (BatchNo (None, 512, 512, 64) 256         conv2d_22[0][0]                  \n",
            "__________________________________________________________________________________________________\n",
            "conv2d_23 (Conv2D)              (None, 512, 512, 1)  65          batch_normalization_18[0][0]     \n",
            "__________________________________________________________________________________________________\n",
            "add (Add)                       (None, 512, 512, 1)  0           input_5[0][0]                    \n",
            "                                                                 conv2d_23[0][0]                  \n",
            "==================================================================================================\n",
            "Total params: 34,572,929\n",
            "Trainable params: 34,561,025\n",
            "Non-trainable params: 11,904\n",
            "__________________________________________________________________________________________________\n"
          ],
          "name": "stdout"
        }
      ]
    },
    {
      "cell_type": "markdown",
      "metadata": {
        "id": "YucqZGGMkSqZ",
        "colab_type": "text"
      },
      "source": [
        "Plots"
      ]
    },
    {
      "cell_type": "code",
      "metadata": {
        "id": "7w87eOKM83Lf",
        "colab_type": "code",
        "cellView": "form",
        "colab": {}
      },
      "source": [
        "#@title\n",
        "from matplotlib import pyplot as plt\n",
        "from IPython.display import clear_output\n",
        "class PlotLearning(keras.callbacks.Callback):\n",
        "    def on_train_begin(self, logs={}):\n",
        "        self.i = 0\n",
        "        self.x = []\n",
        "        self.losses = []\n",
        "        self.val_losses = []\n",
        "        #self.acc = []\n",
        "        #self.val_acc = []\n",
        "        self.ssim=[]\n",
        "        self.psnr=[]\n",
        "        self.fig = plt.figure()\n",
        "        \n",
        "        self.logs = []\n",
        "\n",
        "    def on_epoch_end(self, epoch, logs={}):\n",
        "        \n",
        "        self.logs.append(logs)\n",
        "        self.x.append(self.i)\n",
        "        self.losses.append(logs.get('loss'))\n",
        "        self.val_losses.append(logs.get('val_loss'))\n",
        "        self.ssim.append(logs.get('ssim_loss'))\n",
        "        self.psnr.append(logs.get('psnr'))\n",
        "        #self.acc.append(logs.get('acc'))\n",
        "        #self.val_acc.append(logs.get('val_acc'))\n",
        "        self.i += 1\n",
        "        f, (ax1,ax2,ax3) = plt.subplots(1, 3,figsize=(16,8), sharex=True)\n",
        "        \n",
        "        clear_output(wait=True)\n",
        "        \n",
        "        ax1.set_yscale('log')\n",
        "        ax1.plot(self.x, self.losses, label=\"loss\")\n",
        "        ax1.plot(self.x, self.val_losses, label=\"val_loss\")\n",
        "        ax1.set_ylabel('MSE')\n",
        "        ax1.set_xlabel('Epoch')\n",
        "        ax1.legend()\n",
        "        \n",
        "        ax2.plot(self.x, self.ssim, label=\"ssim\")\n",
        "        ax2.set_ylabel('SSIM')\n",
        "        ax2.set_xlabel('Epoch')\n",
        "        ax2.legend()\n",
        "        \n",
        "        ax3.plot(self.x, self.psnr, label=\"psnr\")\n",
        "        ax3.set_ylabel('PSNR')\n",
        "        ax3.set_xlabel('Epoch')\n",
        "        ax3.legend()\n",
        "    \n",
        "        plt.savefig(path+'/resUnet.png')\n",
        "        plt.show()\n",
        "\n",
        "        print(\"GPU RAM Free: {0:.0f}MB | Used: {1:.0f}MB | Util {2:3.0f}% | Total {3:.0f}MB\".format(gpu.memoryFree, gpu.memoryUsed, gpu.memoryUtil*100, gpu.memoryTotal))\n",
        "\n",
        "\n",
        "GPUs = GPUtil.getGPUs()\n",
        "# XXX: only one GPU on Colab and isn’t guaranteed\n",
        "gpu = GPUs[0]        \n",
        "plot = PlotLearning()"
      ],
      "execution_count": 0,
      "outputs": []
    },
    {
      "cell_type": "markdown",
      "metadata": {
        "id": "-sJYkb6kkG4_",
        "colab_type": "text"
      },
      "source": [
        "Metrics for Evaluation"
      ]
    },
    {
      "cell_type": "code",
      "metadata": {
        "id": "QYMNzbzBRcbN",
        "colab_type": "code",
        "cellView": "form",
        "colab": {}
      },
      "source": [
        "#@title\n",
        "\n",
        " \n",
        "# Structural Similarity Index\n",
        "def ssim_loss(y_true, y_pred):\n",
        "  return tf.reduce_mean(tf.image.ssim(y_true, y_pred, 4095))\n",
        "\n",
        "# Peak Signal To Noise Ratio\n",
        "def psnr(y_true, y_pred):\n",
        "    return tf.reduce_mean(tf.image.psnr(y_true, y_pred,4095))\n"
      ],
      "execution_count": 0,
      "outputs": []
    },
    {
      "cell_type": "code",
      "metadata": {
        "id": "5vaYmIX1onhe",
        "colab_type": "code",
        "colab": {}
      },
      "source": [
        "def psnr_custom(ori,pred):\n",
        "  MAX=4095\n",
        "  img1 = ori.astype(np.float64) / MAX\n",
        "  img2 = pred.astype(np.float64) / MAX\n",
        "  mse1 = np.mean((img1 - img2) ** 2)\n",
        "  if mse1 == 0:\n",
        "    print(\"Same Image\")\n",
        "  print(\"PSNR \",10 * math.log10(1. / mse1))\n"
      ],
      "execution_count": 0,
      "outputs": []
    },
    {
      "cell_type": "code",
      "metadata": {
        "id": "72iiDmBT6evJ",
        "colab_type": "code",
        "colab": {}
      },
      "source": [
        "def mse_custom(imageA,imageB):\n",
        "\terr = np.sum((imageA.astype(\"float\") - imageB.astype(\"float\")) ** 2)\n",
        "\terr /= float(imageA.shape[0] * imageA.shape[1])\n",
        "\tprint(\"MSE: \"+ str(err) ) "
      ],
      "execution_count": 0,
      "outputs": []
    },
    {
      "cell_type": "markdown",
      "metadata": {
        "id": "DbBAcvy-kvSp",
        "colab_type": "text"
      },
      "source": [
        "Training"
      ]
    },
    {
      "cell_type": "code",
      "metadata": {
        "id": "mDeNW4qy78ia",
        "colab_type": "code",
        "colab": {}
      },
      "source": [
        "train_IDs = list(np.arange(194, 479))\n",
        "val_IDs = list(np.arange(0, 193))\n",
        "train_generator = ImageGenerator(train_IDs, path, batch_size = 2)\n",
        "val_generator = ImageGenerator(val_IDs, path, batch_size = 2)\n",
        "\n",
        "model = MultiResUnet(512,512,1)\n",
        "model.compile(optimizer = 'adam', loss = 'mean_squared_error', metrics = [ssim_loss,psnr])"
      ],
      "execution_count": 0,
      "outputs": []
    },
    {
      "cell_type": "code",
      "metadata": {
        "id": "JwRKNpxMeYXR",
        "colab_type": "code",
        "cellView": "both",
        "outputId": "0d35797c-f7b7-41db-a588-a87c507f6539",
        "colab": {
          "base_uri": "https://localhost:8080/",
          "height": 34
        }
      },
      "source": [
        "\n",
        "\n",
        "history= model.fit(train_generator, epochs = 150, validation_data = val_generator,steps_per_epoch=20,verbose=1,\n",
        "                             use_multiprocessing=True,\n",
        "                    workers = 6, callbacks = [plot])\n",
        "model.save(path+\"/resunet.h5\")"
      ],
      "execution_count": 0,
      "outputs": [
        {
          "output_type": "stream",
          "text": [
            "Epoch 1/150\n"
          ],
          "name": "stdout"
        }
      ]
    },
    {
      "cell_type": "markdown",
      "metadata": {
        "id": "Wchw4pNiFzVm",
        "colab_type": "text"
      },
      "source": [
        "*Load* Model from Disk\n",
        "\n"
      ]
    },
    {
      "cell_type": "code",
      "metadata": {
        "id": "G6D0biVHxCB9",
        "colab_type": "code",
        "colab": {}
      },
      "source": [
        "from tensorflow.keras.models import load_model\n",
        "dependencies={\n",
        "    'ssim_loss':ssim_loss,\n",
        "    'psnr':psnr\n",
        "}\n",
        "# load model\n",
        "model = load_model(path+'/adam+mse.h5',custom_objects=dependencies)"
      ],
      "execution_count": 0,
      "outputs": []
    },
    {
      "cell_type": "markdown",
      "metadata": {
        "id": "ButRaagaGFGX",
        "colab_type": "text"
      },
      "source": [
        "Testing"
      ]
    },
    {
      "cell_type": "code",
      "metadata": {
        "id": "PtdTablUu_jE",
        "colab_type": "code",
        "cellView": "form",
        "outputId": "ddd80ef0-e96d-4bbd-ed9d-e96fe988a46d",
        "colab": {
          "base_uri": "https://localhost:8080/",
          "height": 617
        }
      },
      "source": [
        "#@title\n",
        "import matplotlib.pyplot as plt\n",
        "\n",
        "n=2\n",
        "m=20\n",
        "gen=ImageGenerator(np.arange(m,n+m),path, batch_size = 1)\n",
        "pre=model.predict(gen)\n",
        "#print(np.shape(pre))\n",
        "fig,ax=plt.subplots(n,3,figsize=(12,12),sharex=True,sharey=True)\n",
        "\n",
        "i=m\n",
        "while(i<n+m):\n",
        "  input_, target=gen.load_mat(i)  \n",
        "  ax[i-m][0].imshow(np.squeeze(input_), cmap=plt.cm.Greys_r)\n",
        "  ax[i-m][0].set_title('Input')\n",
        "\n",
        "  ax[i-m][1].imshow(np.squeeze(target), cmap=plt.cm.Greys_r)\n",
        "  ax[i-m][1].set_title('Target')\n",
        "\n",
        "  ax[i-m][2].imshow(np.squeeze(pre[i-m]), cmap=plt.cm.Greys_r)\n",
        "  ax[i-m][2].set_title('Predicted')\n",
        "\n",
        "  i=i+1\n",
        "\n",
        "#plt.savefig(path+'FBP/'+'no.png')\n",
        "plt.show()"
      ],
      "execution_count": 0,
      "outputs": [
        {
          "output_type": "display_data",
          "data": {
            "image/png": "[encoded data removed]",
            "text/plain": [
              "<Figure size 864x864 with 6 Axes>"
            ]
          },
          "metadata": {
            "tags": [],
            "needs_background": "light"
          }
        }
      ]
    },
    {
      "cell_type": "code",
      "metadata": {
        "id": "PqewR-qx1aCO",
        "colab_type": "code",
        "outputId": "95f92f93-a92d-4115-beb7-fed4f8f02e99",
        "colab": {
          "base_uri": "https://localhost:8080/",
          "height": 204
        }
      },
      "source": [
        "print(model.metrics_names)\n",
        "p=np.random.randint(0,479,10)\n",
        "for p_ in p:\n",
        "  gen=ImageGenerator(np.arange(p_,p_+1),path, batch_size = 1)\n",
        "  print(p_,model.evaluate(gen,verbose=0 ))\n"
      ],
      "execution_count": 0,
      "outputs": [
        {
          "output_type": "stream",
          "text": [
            "['loss', 'ssim_loss', 'psnr']\n",
            "412 [63.83295822143555, 0.9983349442481995, 54.19462203979492]\n",
            "258 [45.641605377197266, 0.9981250166893005, 55.65146255493164]\n",
            "133 [58.11940383911133, 0.9987290501594543, 54.60186004638672]\n",
            "324 [57.21125793457031, 0.9979455471038818, 54.670257568359375]\n",
            "370 [128.88140869140625, 0.9976975917816162, 51.14316940307617]\n",
            "34 [51.95606231689453, 0.998450517654419, 55.088706970214844]\n",
            "12 [165.085205078125, 0.9938677549362183, 50.0679931640625]\n",
            "180 [45.1189079284668, 0.9990657567977905, 55.70148468017578]\n",
            "58 [42.816932678222656, 0.998672366142273, 55.928916931152344]\n",
            "446 [88.27802276611328, 0.9968377351760864, 52.78654479980469]\n"
          ],
          "name": "stdout"
        }
      ]
    },
    {
      "cell_type": "code",
      "metadata": {
        "id": "WWGVd6dx31Mn",
        "colab_type": "code",
        "outputId": "27de2581-b24f-48d0-d9a7-0f4fdae9132a",
        "colab": {
          "base_uri": "https://localhost:8080/",
          "height": 68
        }
      },
      "source": [
        "n=12\n",
        "gen=ImageGenerator(np.arange(n,n+1),path, batch_size = 1)\n",
        "pre=model.predict(gen)\n",
        "_,target=gen.load_mat(n)\n",
        "psnr_custom(target,pre[0])\n",
        "error = target - pre[0]\n",
        "print(f\"{np.sqrt(np.mean(error**2)):.3g}\")\n",
        "\n",
        "mse_custom(target,pre[0])\n"
      ],
      "execution_count": 0,
      "outputs": [
        {
          "output_type": "stream",
          "text": [
            "PSNR  50.15563120755133\n",
            "12.7\n",
            "MSE: 161.78739839494474\n"
          ],
          "name": "stdout"
        }
      ]
    },
    {
      "cell_type": "markdown",
      "metadata": {
        "id": "HqfukqYcSfpu",
        "colab_type": "text"
      },
      "source": [
        "Saving to DICOM"
      ]
    },
    {
      "cell_type": "code",
      "metadata": {
        "colab_type": "code",
        "outputId": "7145a254-747c-4af0-b71d-1deb2c542069",
        "id": "UOt2ITxnBxnD",
        "colab": {
          "base_uri": "https://localhost:8080/",
          "height": 269
        }
      },
      "source": [
        "import pydicom\n",
        "from pydicom.dataset import Dataset, FileDataset\n",
        "from pydicom.uid import ExplicitVRLittleEndian\n",
        "import pydicom._storage_sopclass_uids\n",
        "i=20\n",
        "\n",
        "gen=ImageGenerator(np.arange(i,i+1),path, batch_size = 1)\n",
        "pre=model.predict(gen)\n",
        "image2d=pre[0]\n",
        "image2d=np.reshape(image2d,(512,512))\n",
        "\n",
        "plt.imshow(image2d,cmap=plt.cm.Greys_r)\n",
        "original = pydicom.read_file(path+'FullDicom/'+str(i)+'.DCM',force=True)\n",
        "original.file_meta.TransferSyntaxUID = pydicom.uid.ImplicitVRLittleEndian\n",
        "original.PhotometricInterpretation = \"MONOCHROME2\"\n",
        "original.PixelRepresentation = 1\n",
        "original.PixelData = image2d.astype(np.uint16).tobytes()\n",
        "\n",
        "#ds.PixelData = image2d.tobytes()\n",
        "\n",
        "original.save_as(path+'/Predicted/'+ str(i) + '.DCM')"
      ],
      "execution_count": 0,
      "outputs": [
        {
          "output_type": "display_data",
          "data": {
            "image/png": "[encoded data removed]",
            "text/plain": [
              "<Figure size 432x288 with 1 Axes>"
            ]
          },
          "metadata": {
            "tags": [],
            "needs_background": "light"
          }
        }
      ]
    },
    {
      "cell_type": "markdown",
      "metadata": {
        "id": "YvJHIU6USm3-",
        "colab_type": "text"
      },
      "source": [
        "Testing Saved DICOM\n"
      ]
    },
    {
      "cell_type": "code",
      "metadata": {
        "id": "nRAGVWkEGAjq",
        "colab_type": "code",
        "outputId": "aba6dbb0-6b01-4d2a-b421-46783f59da56",
        "colab": {
          "base_uri": "https://localhost:8080/",
          "height": 136
        }
      },
      "source": [
        "import math\n",
        "i=20\n",
        "\n",
        "medical_image = pydicom.read_file(path+'Predicted/'+str(i)+'.DCM',force=True)\n",
        "medical_image.file_meta.TransferSyntaxUID = pydicom.uid.ImplicitVRLittleEndian\n",
        "pred = medical_image.pixel_array\n",
        "pred=np.reshape(pred,(512,512,1))\n",
        "\n",
        "gen=ImageGenerator(np.arange(i,i+1),path, batch_size = 1)\n",
        "x,ori=gen.load_mat(i)\n",
        "pre=model.predict(gen)\n",
        "image2d=pre[0]\n",
        "\n",
        "img1 = ori.astype(np.float64) / 255.\n",
        "img2 = pred.astype(np.float64) / 255.\n",
        "img3 = image2d.astype(np.float64) / 255.\n",
        "mse1 = np.mean((img1 - img2) ** 2)\n",
        "mse2 = np.mean((img1 - img3) ** 2)\n",
        "if mse1 == 0:\n",
        "  print(\"Same Image\")\n",
        "print(\"psnr pred\")\n",
        "print(10 * math.log10(1. / mse1))\n",
        "if mse2 == 0:\n",
        "  print(\"Same Image\")\n",
        "print(\"psnr original\")\n",
        "print(10 * math.log10(1. / mse2))\n",
        "\n",
        "\n",
        "image2d=np.reshape(image2d,(512,512,1))\n",
        "\n",
        "with tf.compat.v1.Session() as sess:\n",
        "    print(str(psnr(ori,image2d).eval()))\n",
        "    print(str(psnr(ori,pred).eval()))\n",
        "    print(str(psnr(ori,x).eval()))"
      ],
      "execution_count": 0,
      "outputs": [
        {
          "output_type": "stream",
          "text": [
            "psnr pred\n",
            "21.763637353627367\n",
            "psnr original\n",
            "21.931649963119703\n",
            "21.93165\n",
            "-11.451794\n",
            "17.847105\n"
          ],
          "name": "stdout"
        }
      ]
    },
    {
      "cell_type": "markdown",
      "metadata": {
        "id": "XXwpJTOnSV66",
        "colab_type": "text"
      },
      "source": [
        ""
      ]
    }
  ]
}